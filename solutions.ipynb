{
  "nbformat": 4,
  "nbformat_minor": 0,
  "metadata": {
    "colab": {
      "name": "Untitled1.ipynb",
      "provenance": [],
      "collapsed_sections": [],
      "authorship_tag": "ABX9TyMaPWRZRbaRVPqwBzkJ8R/b",
      "include_colab_link": true
    },
    "kernelspec": {
      "name": "python3",
      "display_name": "Python 3"
    },
    "language_info": {
      "name": "python"
    }
  },
  "cells": [
    {
      "cell_type": "markdown",
      "metadata": {
        "id": "view-in-github",
        "colab_type": "text"
      },
      "source": [
        "<a href=\"https://colab.research.google.com/github/Chunkie0/Hackerrank/blob/main/solutions.ipynb\" target=\"_parent\"><img src=\"https://colab.research.google.com/assets/colab-badge.svg\" alt=\"Open In Colab\"/></a>"
      ]
    },
    {
      "cell_type": "markdown",
      "metadata": {
        "id": "mFsqpd3svjnP"
      },
      "source": [
        ""
      ]
    },
    {
      "cell_type": "markdown",
      "metadata": {
        "id": "tQVlcAODvj26"
      },
      "source": [
        "# **Hackerrank Solutions**"
      ]
    },
    {
      "cell_type": "markdown",
      "metadata": {
        "id": "bi6e7wNrgTvY"
      },
      "source": [
        "### **Python If-Else**"
      ]
    },
    {
      "cell_type": "code",
      "metadata": {
        "colab": {
          "base_uri": "https://localhost:8080/"
        },
        "id": "1QCesoMafYgG",
        "outputId": "3a7064aa-077b-4323-bfa1-395c33c7b816"
      },
      "source": [
        "n = int(input(\"Write a digit: \"))\n",
        "if(n % 2 != 0 or n in range(6, 21)):\n",
        "    print(\"Weird\")\n",
        "else:\n",
        "    print(\"Not Weird\")"
      ],
      "execution_count": 1,
      "outputs": [
        {
          "output_type": "stream",
          "text": [
            "Write a digit: 4\n",
            "Not Weird\n"
          ],
          "name": "stdout"
        }
      ]
    },
    {
      "cell_type": "markdown",
      "metadata": {
        "id": "6LJoQDWLkjTT"
      },
      "source": [
        "### **Arithmetic Operators**"
      ]
    },
    {
      "cell_type": "code",
      "metadata": {
        "colab": {
          "base_uri": "https://localhost:8080/"
        },
        "id": "yFsd555Rgf3l",
        "outputId": "5415cff3-0393-4344-ff5e-03dacee26fe7"
      },
      "source": [
        "print(\"Write a and b numbers to perfom arithmetic calculations:\")\n",
        "a = int(input(\"a: \"))\n",
        "b = int(input(\"b: \"))\n",
        "print(\"{:d}\\n{:d}\\n{:d}\".format(a+b,a-b,a*b))"
      ],
      "execution_count": 4,
      "outputs": [
        {
          "output_type": "stream",
          "text": [
            "Write a and b numbers to perfom arithmetic calculations:\n",
            "a: 6\n",
            "b: 5\n",
            "11\n",
            "1\n",
            "30\n"
          ],
          "name": "stdout"
        }
      ]
    },
    {
      "cell_type": "markdown",
      "metadata": {
        "id": "j5vjz784k0OD"
      },
      "source": [
        "### **Python Division**"
      ]
    },
    {
      "cell_type": "code",
      "metadata": {
        "colab": {
          "base_uri": "https://localhost:8080/"
        },
        "id": "02fb-T7ikx3t",
        "outputId": "19018400-b8a7-4883-d665-79f43a59b7fc"
      },
      "source": [
        "print(\"Write a and b numbers to perfom division calculations:\")\n",
        "a = int(input(\"a: \"))\n",
        "b = int(input(\"b: \"))\n",
        "print(\"{:d}\\n{:f}\".format(a//b,a/b))"
      ],
      "execution_count": 7,
      "outputs": [
        {
          "output_type": "stream",
          "text": [
            "Write a and b numbers to perfom division calculations:\n",
            "a: 1\n",
            "b: 2\n",
            "0\n",
            "0.500000\n"
          ],
          "name": "stdout"
        }
      ]
    },
    {
      "cell_type": "markdown",
      "metadata": {
        "id": "cwX-tkCtpsGh"
      },
      "source": [
        "### **Loop**\n"
      ]
    },
    {
      "cell_type": "code",
      "metadata": {
        "id": "oekm-0idprHi"
      },
      "source": [
        "n = int(input(\"Write a number: \"))\n",
        "for i in range(n):\n",
        "    print(i**2)"
      ],
      "execution_count": null,
      "outputs": []
    },
    {
      "cell_type": "markdown",
      "metadata": {
        "id": "odDNZzbcqWlc"
      },
      "source": [
        "### **Write A Function**"
      ]
    },
    {
      "cell_type": "code",
      "metadata": {
        "colab": {
          "base_uri": "https://localhost:8080/"
        },
        "id": "sezk3fByt6-U",
        "outputId": "901c6590-47d9-4114-9e14-474885de753f"
      },
      "source": [
        "def is_leap(year):\n",
        "    leap = False\n",
        "    \n",
        "    \n",
        "    if(year % 400 == 0):\n",
        "        leap = True\n",
        "    elif(year % 4 == 0 and year % 100 !=0):\n",
        "        leap = True\n",
        "    return leap\n",
        "\n",
        "print(is_leap(int(input(\"Write a year to find out if its a leap year: \"))))"
      ],
      "execution_count": 5,
      "outputs": [
        {
          "output_type": "stream",
          "text": [
            "Write a year to find out if its a leap year: 400\n",
            "True\n"
          ],
          "name": "stdout"
        }
      ]
    },
    {
      "cell_type": "markdown",
      "metadata": {
        "id": "PqNiTVJQvaMn"
      },
      "source": [
        "### **Print Function**"
      ]
    },
    {
      "cell_type": "code",
      "metadata": {
        "id": "C-4JObJWvRSu"
      },
      "source": [
        "n = int(input(\"Write a number: \"))\n",
        "s = \"\"\n",
        "for i in range(1, n+1):\n",
        "    s += str(i)\n",
        "    \n",
        "print(s)"
      ],
      "execution_count": null,
      "outputs": []
    },
    {
      "cell_type": "code",
      "metadata": {
        "colab": {
          "base_uri": "https://localhost:8080/"
        },
        "id": "Z1YEkrU1xuDP",
        "outputId": "b796747f-7bf3-4e1f-e671-3be9ab342c26"
      },
      "source": [
        "def countSwaps(a):\n",
        "    counter = 0\n",
        "    not_sorted = True\n",
        "    while not_sorted:\n",
        "        not_sorted = False\n",
        "        for i in range(len(a)-1):\n",
        "          if a[i] > a[i+1]:\n",
        "            a[i], a[i+1] = a[i+1], a[i]\n",
        "            counter +=1\n",
        "            not_sorted = True\n",
        "    return counter\n",
        "print(countSwaps([1,6,8,1,3,1,6,5]))"
      ],
      "execution_count": 9,
      "outputs": [
        {
          "output_type": "stream",
          "text": [
            "11\n"
          ],
          "name": "stdout"
        }
      ]
    },
    {
      "cell_type": "markdown",
      "metadata": {
        "id": "1AcfzROmzdxy"
      },
      "source": [
        "### **Sorting: Bubble Sort**"
      ]
    },
    {
      "cell_type": "code",
      "metadata": {
        "colab": {
          "base_uri": "https://localhost:8080/"
        },
        "id": "4P8AoN4gzwyi",
        "outputId": "be6b7e24-8cb3-43f5-9c67-28405d7b2a2b"
      },
      "source": [
        "def countSwaps(a):\n",
        "    counter = 0\n",
        "    not_sorted = True\n",
        "    while not_sorted:\n",
        "        not_sorted = False\n",
        "        for i in range(len(a)-1):\n",
        "          if a[i] > a[i+1]:\n",
        "            a[i], a[i+1] = a[i+1], a[i]\n",
        "            counter +=1\n",
        "            not_sorted = True\n",
        "    print(\"Array is sorted in {} swaps.\".format(counter))\n",
        "    print(\"First Element: {}\".format(a[0]))\n",
        "    print(\"Last Element: {}\".format(a[-1]))\n",
        "\n",
        "print(countSwaps([4,3,2,1]))"
      ],
      "execution_count": 12,
      "outputs": [
        {
          "output_type": "stream",
          "text": [
            "Array is sorted in 6 swaps.\n",
            "First Element: 1\n",
            "Last Element: 4\n",
            "None\n"
          ],
          "name": "stdout"
        }
      ]
    }
  ]
}