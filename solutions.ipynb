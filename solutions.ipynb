{
  "nbformat": 4,
  "nbformat_minor": 0,
  "metadata": {
    "colab": {
      "name": "Untitled1.ipynb",
      "provenance": [],
      "collapsed_sections": [],
      "authorship_tag": "ABX9TyMOnvCwUT22ic2uffusOfk/",
      "include_colab_link": true
    },
    "kernelspec": {
      "name": "python3",
      "display_name": "Python 3"
    },
    "language_info": {
      "name": "python"
    }
  },
  "cells": [
    {
      "cell_type": "markdown",
      "metadata": {
        "id": "view-in-github",
        "colab_type": "text"
      },
      "source": [
        "<a href=\"https://colab.research.google.com/github/Chunkie0/Hackerrank/blob/main/solutions.ipynb\" target=\"_parent\"><img src=\"https://colab.research.google.com/assets/colab-badge.svg\" alt=\"Open In Colab\"/></a>"
      ]
    },
    {
      "cell_type": "markdown",
      "metadata": {
        "id": "tQVlcAODvj26"
      },
      "source": [
        "# **Hackerrank Solutions**"
      ]
    },
    {
      "cell_type": "markdown",
      "metadata": {
        "id": "bi6e7wNrgTvY"
      },
      "source": [
        "### **Python If-Else**"
      ]
    },
    {
      "cell_type": "code",
      "metadata": {
        "id": "1QCesoMafYgG"
      },
      "source": [
        "n = int(input(\"Write a digit: \"))\n",
        "if(n % 2 != 0 or n in range(6, 21)):\n",
        "    print(\"Weird\")\n",
        "else:\n",
        "    print(\"Not Weird\")"
      ],
      "execution_count": null,
      "outputs": []
    },
    {
      "cell_type": "markdown",
      "metadata": {
        "id": "6LJoQDWLkjTT"
      },
      "source": [
        "### **Arithmetic Operators**"
      ]
    },
    {
      "cell_type": "code",
      "metadata": {
        "id": "yFsd555Rgf3l"
      },
      "source": [
        "print(\"Write a and b numbers to perfom arithmetic calculations:\")\n",
        "a = int(input(\"a: \"))\n",
        "b = int(input(\"b: \"))\n",
        "print(\"{:d}\\n{:d}\\n{:d}\".format(a+b,a-b,a*b))"
      ],
      "execution_count": null,
      "outputs": []
    },
    {
      "cell_type": "markdown",
      "metadata": {
        "id": "j5vjz784k0OD"
      },
      "source": [
        "### **Python Division**"
      ]
    },
    {
      "cell_type": "code",
      "metadata": {
        "id": "02fb-T7ikx3t"
      },
      "source": [
        "print(\"Write a and b numbers to perfom division calculations:\")\n",
        "a = int(input(\"a: \"))\n",
        "b = int(input(\"b: \"))\n",
        "print(\"{:d}\\n{:f}\".format(a//b,a/b))"
      ],
      "execution_count": null,
      "outputs": []
    },
    {
      "cell_type": "markdown",
      "metadata": {
        "id": "cwX-tkCtpsGh"
      },
      "source": [
        "### **Loop**\n"
      ]
    },
    {
      "cell_type": "code",
      "metadata": {
        "id": "oekm-0idprHi"
      },
      "source": [
        "n = int(input(\"Write a number: \"))\n",
        "for i in range(n):\n",
        "    print(i**2)"
      ],
      "execution_count": null,
      "outputs": []
    },
    {
      "cell_type": "markdown",
      "metadata": {
        "id": "odDNZzbcqWlc"
      },
      "source": [
        "### **Write A Function**"
      ]
    },
    {
      "cell_type": "code",
      "metadata": {
        "id": "sezk3fByt6-U"
      },
      "source": [
        "def is_leap(year):\n",
        "    leap = False\n",
        "    \n",
        "    \n",
        "    if(year % 400 == 0):\n",
        "        leap = True\n",
        "    elif(year % 4 == 0 and year % 100 !=0):\n",
        "        leap = True\n",
        "    return leap\n",
        "\n",
        "print(is_leap(int(input(\"Write a year to find out if its a leap year: \"))))"
      ],
      "execution_count": null,
      "outputs": []
    },
    {
      "cell_type": "markdown",
      "metadata": {
        "id": "PqNiTVJQvaMn"
      },
      "source": [
        "### **Print Function**"
      ]
    },
    {
      "cell_type": "code",
      "metadata": {
        "id": "C-4JObJWvRSu"
      },
      "source": [
        "n = int(input(\"Write a number: \"))\n",
        "s = \"\"\n",
        "for i in range(1, n+1):\n",
        "    s += str(i)\n",
        "    \n",
        "print(s)"
      ],
      "execution_count": null,
      "outputs": []
    },
    {
      "cell_type": "markdown",
      "metadata": {
        "id": "1AcfzROmzdxy"
      },
      "source": [
        "### **Sorting: Bubble Sort**"
      ]
    },
    {
      "cell_type": "code",
      "metadata": {
        "id": "4P8AoN4gzwyi"
      },
      "source": [
        "def countSwaps(a):\n",
        "    counter = 0\n",
        "    not_sorted = True\n",
        "    while not_sorted:\n",
        "        not_sorted = False\n",
        "        for i in range(len(a)-1):\n",
        "          if a[i] > a[i+1]:\n",
        "            a[i], a[i+1] = a[i+1], a[i]\n",
        "            counter +=1\n",
        "            not_sorted = True\n",
        "    print(\"Array is sorted in {} swaps.\".format(counter))\n",
        "    print(\"First Element: {}\".format(a[0]))\n",
        "    print(\"Last Element: {}\".format(a[-1]))\n",
        "\n",
        "print(countSwaps([4,3,2,1]))"
      ],
      "execution_count": null,
      "outputs": []
    }
  ]
}